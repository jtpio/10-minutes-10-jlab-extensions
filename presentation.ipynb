{
 "cells": [
  {
   "cell_type": "markdown",
   "metadata": {},
   "source": [
    "![](./skip.png)"
   ]
  },
  {
   "cell_type": "markdown",
   "metadata": {},
   "source": [
    "# 10 JupyterLab Extensions You Might Not Know About\n",
    "\n",
    "## 🎄 PyData Berlin December Meetup 🎄 - 2018-12-19\n",
    "\n",
    "## Jeremy Tuloup - [github.com/jtpio/talk-pydata-december-2018](https://github.com/jtpio/talk-pydata-december-2018)"
   ]
  },
  {
   "cell_type": "markdown",
   "metadata": {},
   "source": [
    "![](./skip.png)"
   ]
  },
  {
   "cell_type": "markdown",
   "metadata": {},
   "source": [
    "# #1. jupyterlab-git\n",
    "\n",
    "## https://github.com/jupyterlab/jupyterlab-git\n",
    "\n",
    "## `jupyter labextension install @jupyterlab/git`\n",
    "\n",
    "![](https://camo.githubusercontent.com/8e2f2b6abdaff6b180bf6aee95b288a7af0fde4d/687474703a2f2f672e7265636f726469742e636f2f4e39496b7a62796b38502e676966)"
   ]
  },
  {
   "cell_type": "markdown",
   "metadata": {},
   "source": [
    "![](./skip.png)"
   ]
  },
  {
   "cell_type": "markdown",
   "metadata": {},
   "source": [
    "# #2. nbdime\n",
    "\n",
    "## https://github.com/jupyter/nbdime\n",
    "\n",
    "## `pip install nbdime`\n",
    "\n",
    "## `nbdime extensions --enable --sys-prefix`\n",
    "\n",
    "![](https://raw.githubusercontent.com/jupyter/nbdime/master/docs/source/images/nbdiff-web.png)"
   ]
  },
  {
   "cell_type": "markdown",
   "metadata": {},
   "source": [
    "![](./skip.png)"
   ]
  },
  {
   "cell_type": "markdown",
   "metadata": {},
   "source": [
    "# #3. jupyterlab-github\n",
    "\n",
    "## https://github.com/jupyterlab/jupyterlab-github\n",
    "\n",
    "## `jupyter labextension install @jupyterlab/github`\n",
    "\n",
    "![](https://raw.githubusercontent.com/jupyterlab/jupyterlab-github/master/gitception.png)"
   ]
  },
  {
   "cell_type": "markdown",
   "metadata": {},
   "source": [
    "![](./skip.png)"
   ]
  },
  {
   "cell_type": "markdown",
   "metadata": {},
   "source": [
    "# #4. jupyterlab-toc\n",
    "\n",
    "## https://github.com/jupyterlab/jupyterlab-toc\n",
    "\n",
    "## `jupyter labextension install @jupyterlab/toc`\n",
    "\n",
    "![](https://raw.githubusercontent.com/jupyterlab/jupyterlab-toc/master/toc.gif)"
   ]
  },
  {
   "cell_type": "markdown",
   "metadata": {},
   "source": [
    "![](./skip.png)"
   ]
  },
  {
   "cell_type": "markdown",
   "metadata": {
    "toc-hr-collapsed": false
   },
   "source": [
    "# #5. jupyterlab-python-file\n",
    "\n",
    "## https://github.com/jtpio/jupyterlab-python-file\n",
    "\n",
    "## `jupyter labextension install jupyterlab-python-file`\n",
    "\n",
    "![](https://raw.githubusercontent.com/jtpio/jupyterlab-python-file/master/doc/screenshot.png)"
   ]
  },
  {
   "cell_type": "markdown",
   "metadata": {},
   "source": [
    "![](./skip.png)"
   ]
  },
  {
   "cell_type": "markdown",
   "metadata": {
    "toc-hr-collapsed": false
   },
   "source": [
    "# #6. jupyterlab-python-bytecode\n",
    "\n",
    "## https://github.com/jtpio/jupyterlab-python-bytecode\n",
    "\n",
    "## `jupyter labextension install jupyterlab-python-bytecode`\n",
    "\n",
    "![](https://raw.githubusercontent.com/jtpio/jupyterlab-python-bytecode/master/doc/live_update.gif)"
   ]
  },
  {
   "cell_type": "markdown",
   "metadata": {},
   "source": [
    "![](./skip.png)"
   ]
  },
  {
   "cell_type": "markdown",
   "metadata": {
    "toc-hr-collapsed": false
   },
   "source": [
    "# #7. jupyterlab-kernelspy\n",
    "\n",
    "## https://github.com/vidartf/jupyterlab-kernelspy\n",
    "\n",
    "## `jupyter labextension install jupyterlab-kernelspy`\n",
    "\n",
    "![](https://raw.githubusercontent.com/vidartf/jupyterlab-kernelspy/master/screenshot.png)"
   ]
  },
  {
   "cell_type": "code",
   "execution_count": 1,
   "metadata": {},
   "outputs": [
    {
     "data": {
      "application/vnd.jupyter.widget-view+json": {
       "model_id": "dd0fec8dd3394102bd971f1328bbe6a5",
       "version_major": 2,
       "version_minor": 0
      },
      "text/plain": [
       "IntSlider(value=0)"
      ]
     },
     "metadata": {},
     "output_type": "display_data"
    }
   ],
   "source": [
    "import ipywidgets\n",
    "ipywidgets.IntSlider()"
   ]
  },
  {
   "cell_type": "markdown",
   "metadata": {},
   "source": [
    "![](./skip.png)"
   ]
  },
  {
   "cell_type": "markdown",
   "metadata": {
    "toc-hr-collapsed": false
   },
   "source": [
    "# #8. jupyterlab-sidecar\n",
    "\n",
    "## https://github.com/jupyter-widgets/jupyterlab-sidecar\n",
    "\n",
    "## `jupyter labextension install @jupyter-widgets/jupyterlab-sidecar`\n",
    "\n",
    "![](https://raw.githubusercontent.com/jupyter-widgets/jupyterlab-sidecar/master/sidecar.gif)"
   ]
  },
  {
   "cell_type": "code",
   "execution_count": 2,
   "metadata": {},
   "outputs": [],
   "source": [
    "from sidecar import Sidecar\n",
    "\n",
    "sc = Sidecar(title='Title')\n",
    "with sc:\n",
    "    display()"
   ]
  },
  {
   "cell_type": "markdown",
   "metadata": {},
   "source": [
    "![](./skip.png)"
   ]
  },
  {
   "cell_type": "markdown",
   "metadata": {
    "toc-hr-collapsed": false
   },
   "source": [
    "# #9. jupyterlab-drawio\n",
    "\n",
    "## https://github.com/QuantStack/jupyterlab-drawio\n",
    "\n",
    "## `jupyter labextension install jupyterlab-drawio`\n",
    "\n",
    "![](https://raw.githubusercontent.com/QuantStack/jupyterlab-drawio/master/drawio.gif)"
   ]
  },
  {
   "cell_type": "markdown",
   "metadata": {},
   "source": [
    "![](./skip.png)"
   ]
  },
  {
   "cell_type": "markdown",
   "metadata": {
    "toc-hr-collapsed": false
   },
   "source": [
    "# #10. jupyterlab-monaco\n",
    "\n",
    "## https://github.com/jupyterlab/jupyterlab-monaco\n",
    "\n",
    "## WIP\n",
    "\n",
    "![](https://raw.githubusercontent.com/jupyterlab/jupyterlab-monaco/master/screenshots/intellisense.png)"
   ]
  },
  {
   "cell_type": "markdown",
   "metadata": {},
   "source": [
    "![](./skip.png)"
   ]
  },
  {
   "cell_type": "markdown",
   "metadata": {
    "toc-hr-collapsed": false
   },
   "source": [
    "# #BONUS. extension-manager\n",
    "\n",
    "![screenshot](./extension-manager.png)"
   ]
  },
  {
   "cell_type": "markdown",
   "metadata": {},
   "source": [
    "![](./skip.png)"
   ]
  },
  {
   "cell_type": "markdown",
   "metadata": {},
   "source": [
    "# More:\n",
    "\n",
    "## - https://github.com/topics/jupyterlab-extension"
   ]
  },
  {
   "cell_type": "markdown",
   "metadata": {},
   "source": [
    "![](./skip.png)"
   ]
  },
  {
   "cell_type": "markdown",
   "metadata": {},
   "source": [
    "## Thanks!\n",
    "\n",
    "## [github.com/jtpio](https://github.com/jtpio)"
   ]
  },
  {
   "cell_type": "markdown",
   "metadata": {},
   "source": [
    "![](./skip.png)"
   ]
  }
 ],
 "metadata": {
  "kernelspec": {
   "display_name": "Python 3",
   "language": "python",
   "name": "python3"
  },
  "language_info": {
   "codemirror_mode": {
    "name": "ipython",
    "version": 3
   },
   "file_extension": ".py",
   "mimetype": "text/x-python",
   "name": "python",
   "nbconvert_exporter": "python",
   "pygments_lexer": "ipython3",
   "version": "3.7.1"
  },
  "toc-autonumbering": false,
  "toc-showtags": false
 },
 "nbformat": 4,
 "nbformat_minor": 2
}
