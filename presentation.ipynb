{
 "cells": [
  {
   "cell_type": "markdown",
   "metadata": {},
   "source": [
    "![](./skip.png)"
   ]
  },
  {
   "cell_type": "markdown",
   "metadata": {},
   "source": [
    "# 10 JupyterLab Extensions in 10 minutes\n",
    "\n",
    "## 🎄 ⛄ PyData Berlin December Meetup ⛄ 🎄 - 2018-12-19\n",
    "\n",
    "## Jeremy Tuloup - [github.com/jtpio/pydata-december-2018](https://github.com/jtpio/pydata-december-2018)"
   ]
  },
  {
   "cell_type": "markdown",
   "metadata": {},
   "source": [
    "![](./skip.png)"
   ]
  },
  {
   "cell_type": "markdown",
   "metadata": {},
   "source": [
    "# Core extensions\n",
    "\n",
    "## - <div class=\"jp-FolderIcon \" style=\"min-width:20px;min-height:20px;background-repeat:no-repeat;display:inline-block;\"></div> File Browser\n",
    "## - <div class=\"jp-CodeConsoleIcon \" style=\"min-width:20px;min-height:20px;background-repeat:no-repeat;display:inline-block;\"></div> Console\n",
    "## - <div class=\"jp-NotebookIcon \" style=\"min-width:20px;min-height:20px;background-repeat:no-repeat;display:inline-block;\"></div> Notebook\n",
    "## - ..."
   ]
  },
  {
   "cell_type": "markdown",
   "metadata": {},
   "source": [
    "![](./skip.png)"
   ]
  },
  {
   "cell_type": "markdown",
   "metadata": {},
   "source": [
    "# #1. jupyterlab-git\n",
    "\n",
    "## https://github.com/jupyterlab/jupyterlab-git\n",
    "\n",
    "## `jupyter labextension install @jupyterlab/git`\n",
    "\n",
    "<img src=\"https://camo.githubusercontent.com/8e2f2b6abdaff6b180bf6aee95b288a7af0fde4d/687474703a2f2f672e7265636f726469742e636f2f4e39496b7a62796b38502e676966\" style=\"max-width:800px;\">"
   ]
  },
  {
   "cell_type": "markdown",
   "metadata": {},
   "source": [
    "![](./skip.png)"
   ]
  },
  {
   "cell_type": "markdown",
   "metadata": {},
   "source": [
    "# #2. nbdime\n",
    "\n",
    "## https://github.com/jupyter/nbdime\n",
    "\n",
    "## `pip install nbdime`\n",
    "\n",
    "## `jupyter labextension install nbdime-jupyterlab`\n",
    "\n",
    "<img src=\"https://raw.githubusercontent.com/jupyter/nbdime/master/docs/source/images/nbdiff-web.png\" style=\"max-width:800px;\">"
   ]
  },
  {
   "cell_type": "markdown",
   "metadata": {},
   "source": [
    "![](./skip.png)"
   ]
  },
  {
   "cell_type": "markdown",
   "metadata": {},
   "source": [
    "# #3. jupyterlab-github\n",
    "\n",
    "## https://github.com/jupyterlab/jupyterlab-github\n",
    "\n",
    "## `jupyter labextension install @jupyterlab/github`\n",
    "\n",
    "<img src=\"https://raw.githubusercontent.com/jupyterlab/jupyterlab-github/master/gitception.png\" style=\"max-width:800px\">"
   ]
  },
  {
   "cell_type": "markdown",
   "metadata": {},
   "source": [
    "![](./skip.png)"
   ]
  },
  {
   "cell_type": "markdown",
   "metadata": {},
   "source": [
    "# #4. jupyterlab-toc\n",
    "\n",
    "## https://github.com/jupyterlab/jupyterlab-toc\n",
    "\n",
    "## `jupyter labextension install @jupyterlab/toc`\n",
    "\n",
    "<img src=\"https://raw.githubusercontent.com/jupyterlab/jupyterlab-toc/master/toc.gif\" style=\"max-width:800px\">"
   ]
  },
  {
   "cell_type": "markdown",
   "metadata": {},
   "source": [
    "![](./skip.png)"
   ]
  },
  {
   "cell_type": "markdown",
   "metadata": {
    "toc-hr-collapsed": false
   },
   "source": [
    "# #5. jupyterlab-python-file\n",
    "\n",
    "## https://github.com/jtpio/jupyterlab-python-file\n",
    "\n",
    "## `jupyter labextension install jupyterlab-python-file`\n",
    "\n",
    "![](https://raw.githubusercontent.com/jtpio/jupyterlab-python-file/master/doc/screenshot.png)"
   ]
  },
  {
   "cell_type": "markdown",
   "metadata": {},
   "source": [
    "![](./skip.png)"
   ]
  },
  {
   "cell_type": "markdown",
   "metadata": {
    "toc-hr-collapsed": false
   },
   "source": [
    "# #6. jupyterlab-python-bytecode\n",
    "\n",
    "## https://github.com/jtpio/jupyterlab-python-bytecode\n",
    "\n",
    "## `jupyter labextension install jupyterlab-python-bytecode`\n",
    "\n",
    "![](https://raw.githubusercontent.com/jtpio/jupyterlab-python-bytecode/master/doc/live_update.gif)"
   ]
  },
  {
   "cell_type": "markdown",
   "metadata": {},
   "source": [
    "![](./skip.png)"
   ]
  },
  {
   "cell_type": "markdown",
   "metadata": {
    "toc-hr-collapsed": false
   },
   "source": [
    "# #7. jupyterlab-kernelspy\n",
    "\n",
    "## https://github.com/vidartf/jupyterlab-kernelspy\n",
    "\n",
    "## `jupyter labextension install jupyterlab-kernelspy`\n",
    "\n",
    "<img src=\"https://raw.githubusercontent.com/vidartf/jupyterlab-kernelspy/master/screenshot.png\" style=\"max-width:800px\">"
   ]
  },
  {
   "cell_type": "code",
   "execution_count": null,
   "metadata": {},
   "outputs": [],
   "source": [
    "import ipywidgets\n",
    "ipywidgets.IntSlider()"
   ]
  },
  {
   "cell_type": "markdown",
   "metadata": {},
   "source": [
    "![](./skip.png)"
   ]
  },
  {
   "cell_type": "markdown",
   "metadata": {
    "toc-hr-collapsed": false
   },
   "source": [
    "# #8. jupyterlab-sidecar\n",
    "\n",
    "## https://github.com/jupyter-widgets/jupyterlab-sidecar\n",
    "\n",
    "## `jupyter labextension install @jupyter-widgets/jupyterlab-sidecar`\n",
    "\n",
    "<img src=\"https://raw.githubusercontent.com/jupyter-widgets/jupyterlab-sidecar/master/sidecar.gif\" style=\"max-width:800px\">"
   ]
  },
  {
   "cell_type": "code",
   "execution_count": null,
   "metadata": {},
   "outputs": [],
   "source": [
    "from sidecar import Sidecar\n",
    "\n",
    "# courtesy of Dinu's ipyrest\n",
    "# https://github.com/deeplook/ipyrest\n",
    "from ipyrest import Api"
   ]
  },
  {
   "cell_type": "code",
   "execution_count": null,
   "metadata": {},
   "outputs": [],
   "source": [
    "def reset_content_type(resp):\n",
    "    resp.headers['Content-Type'] = 'application/vnd.geo+json'\n",
    "\n",
    "url = 'https://gist.githubusercontent.com/' \\\n",
    "      'deeplook/71e9ded257cfc2d8e5e9/raw/f0cfbab5f266fcb8056e8aea046f1f222346b76b/2013.geojson'\n",
    "api = Api(url, post_process_resp=reset_content_type)"
   ]
  },
  {
   "cell_type": "code",
   "execution_count": null,
   "metadata": {},
   "outputs": [],
   "source": [
    "api"
   ]
  },
  {
   "cell_type": "code",
   "execution_count": null,
   "metadata": {},
   "outputs": [],
   "source": [
    "sc = Sidecar(title='Title')\n",
    "with sc:\n",
    "    display(api)"
   ]
  },
  {
   "cell_type": "markdown",
   "metadata": {},
   "source": [
    "![](./skip.png)"
   ]
  },
  {
   "cell_type": "markdown",
   "metadata": {
    "toc-hr-collapsed": false
   },
   "source": [
    "# #9. jupyterlab-drawio\n",
    "\n",
    "## https://github.com/QuantStack/jupyterlab-drawio\n",
    "\n",
    "## `jupyter labextension install jupyterlab-drawio`\n",
    "\n",
    "![](https://raw.githubusercontent.com/QuantStack/jupyterlab-drawio/master/drawio.gif)"
   ]
  },
  {
   "cell_type": "markdown",
   "metadata": {},
   "source": [
    "![](./skip.png)"
   ]
  },
  {
   "cell_type": "markdown",
   "metadata": {
    "toc-hr-collapsed": false
   },
   "source": [
    "# #10. jupyterlab-quickopen\n",
    "\n",
    "## https://github.com/parente/jupyterlab-quickopen\n",
    "\n",
    "## `pip install jupyterlab-quickopen`\n",
    "\n",
    "## `jupyter labextension install @parente/jupyterlab-quickopen`\n",
    "\n",
    "![](https://raw.githubusercontent.com/parente/jupyterlab-quickopen/master/doc/quickopen.gif)"
   ]
  },
  {
   "cell_type": "markdown",
   "metadata": {},
   "source": [
    "![](./skip.png)"
   ]
  },
  {
   "cell_type": "markdown",
   "metadata": {
    "toc-hr-collapsed": false
   },
   "source": [
    "# BONUS. jupyterlab-monaco\n",
    "\n",
    "## https://github.com/jupyterlab/jupyterlab-monaco\n",
    "\n",
    "## WIP\n",
    "\n",
    "![](https://raw.githubusercontent.com/jupyterlab/jupyterlab-monaco/master/screenshots/intellisense.png)"
   ]
  },
  {
   "cell_type": "markdown",
   "metadata": {},
   "source": [
    "![](./skip.png)"
   ]
  },
  {
   "cell_type": "markdown",
   "metadata": {
    "toc-hr-collapsed": false
   },
   "source": [
    "# More:\n",
    "\n",
    "## - https://github.com/topics/jupyterlab-extension\n",
    "\n",
    "\n",
    "![screenshot](./extension-manager.png)"
   ]
  },
  {
   "cell_type": "markdown",
   "metadata": {},
   "source": [
    "![](./skip.png)"
   ]
  },
  {
   "cell_type": "markdown",
   "metadata": {
    "toc-hr-collapsed": true
   },
   "source": [
    "## Thanks!\n",
    "\n",
    "## [github.com/jtpio](https://github.com/jtpio)"
   ]
  },
  {
   "cell_type": "markdown",
   "metadata": {},
   "source": [
    "![](./skip.png)"
   ]
  }
 ],
 "metadata": {
  "kernelspec": {
   "display_name": "Python 3",
   "language": "python",
   "name": "python3"
  },
  "language_info": {
   "codemirror_mode": {
    "name": "ipython",
    "version": 3
   },
   "file_extension": ".py",
   "mimetype": "text/x-python",
   "name": "python",
   "nbconvert_exporter": "python",
   "pygments_lexer": "ipython3",
   "version": "3.7.1"
  },
  "toc-autonumbering": false,
  "toc-showtags": false
 },
 "nbformat": 4,
 "nbformat_minor": 2
}
